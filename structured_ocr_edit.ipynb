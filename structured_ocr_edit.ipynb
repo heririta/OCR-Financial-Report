{
  "cells": [
    {
      "cell_type": "markdown",
      "metadata": {
        "id": "7FPiAIwHteCl"
      },
      "source": [
        "# OCR Exploration and Simple Structured Outputs (Deprecated)\n",
        "\n",
        "---\n",
        "\n",
        "In this cookbook, we will explore the basics of OCR and leverage it together with existing models to achieve structured outputs fueled by our OCR model (we recommend using the new Annotations feature instead for better results).\n",
        "\n",
        "You may want to do this in case current vision models are not powerful enough, hence enhancing their vision OCR capabilities with the OCR model to achieve better structured data extraction.\n",
        "\n",
        "---\n",
        "\n",
        "### Model Used\n",
        "- Mistral OCR\n",
        "- Pixtral 12B & Ministral 8B\n",
        "\n",
        "---\n",
        "\n",
        "**For a more up to date guide on structured outputs visit our [Annotations cookbook](https://github.com/mistralai/cookbook/blob/main/mistral/ocr/data_extraction.ipynb) on Data Extraction.**\n"
      ]
    },
    {
      "cell_type": "markdown",
      "metadata": {
        "id": "UgZW4ZfetwAl"
      },
      "source": [
        "## Setup\n",
        "\n",
        "First, let's install `mistralai` and download the required files."
      ]
    },
    {
      "cell_type": "code",
      "execution_count": 1,
      "metadata": {
        "id": "po7Cukllt8za"
      },
      "outputs": [],
      "source": [
        "%%capture\n",
        "!pip install mistralai"
      ]
    },
    {
      "cell_type": "markdown",
      "metadata": {
        "id": "g8rxv4Tx5kNX"
      },
      "source": [
        "### Download PDF and image files"
      ]
    },
    {
      "cell_type": "code",
      "execution_count": 4,
      "metadata": {
        "id": "MtKgrASwF3Ol"
      },
      "outputs": [],
      "source": [
        "%%capture\n",
        "!wget https://raw.githubusercontent.com/mistralai/cookbook/refs/heads/main/mistral/ocr/mistral7b.pdf\n",
        "!wget https://raw.githubusercontent.com/mistralai/cookbook/refs/heads/main/mistral/ocr/receipt.png"
      ]
    },
    {
      "cell_type": "markdown",
      "metadata": {
        "id": "NhwM0aITt7ti"
      },
      "source": [
        "## Mistral OCR with PDF\n",
        "\n",
        "We will need to set up our client. You can create an API key on our [Plateforme](https://console.mistral.ai/api-keys/)."
      ]
    },
    {
      "cell_type": "code",
      "execution_count": 1,
      "metadata": {
        "id": "odfkuCk6qSAw"
      },
      "outputs": [],
      "source": [
        "# Initialize Mistral client with API key\n",
        "from mistralai import Mistral\n",
        "\n",
        "api_key = \"hg8KTuHmhwVmDFeZWxMurc63KmveBLP0\" # Replace with your API key\n",
        "client = Mistral(api_key=api_key)"
      ]
    },
    {
      "cell_type": "markdown",
      "metadata": {
        "id": "xk-3YwljuFKK"
      },
      "source": [
        "There are two types of files you can apply OCR to:\n",
        "- 1. PDF files\n",
        "- 2. Image files\n",
        "\n",
        "Let's start with a PDF file:"
      ]
    },
    {
      "cell_type": "code",
      "execution_count": 7,
      "metadata": {
        "colab": {
          "base_uri": "https://localhost:8080/"
        },
        "id": "svaJGBFlqm7_",
        "outputId": "d59c5b68-486c-41a3-a0b9-8f6c0baa14d3"
      },
      "outputs": [
        {
          "name": "stdout",
          "output_type": "stream",
          "text": [
            "{\n",
            "    \"pages\": [\n",
            "        {\n",
            "            \"index\": 0,\n",
            "            \"markdown\": \"| LAPORAN POSISI KEUANGAN (NERACA) BULANAN |  |\\n| :--: | :--: |\\n| PT BANK MANDIRI (PERSERO) Tbk. <br> Tanggal 31 Agustus 2025 |  |\\n|  | Dalam Satuan Rupiah |\\n| POS-POS | NOMINAL |\\n| ASET |  |\\n| 1.Kas | 17.543.261 |\\n| 2.Penempatan pada Bank Indonesia | 101.772 .835 |\\n| 3.Penempatan pada bank lain | 58.970 .016 |\\n| 4.Tagihan spot dan derivatif/forward | 8.415 .865 |\\n| 5.Surat berharga yang dimiliki | 254.120 .322 |\\n| 6.Surat berharga yang dijual dengan janji dibeli kembali (repo) | 44.331 .731 |\\n| 7.Tagihan atas surat berharga yang dibeli dengan janji dijual kembali (reverse repo) | 1.639 .854 |\\n| 8.Tagihan akseptasi | 6.410 .900 |\\n| 9.Kredit yang diberikan | 1.353 .438 .264 |\\n| 10.Pembiayaan syariah |  |\\n| 11.Penyertaan modal | 15.016 .495 |\\n| 12.Aset Keuangan Lainnya | 44.141 .292 |\\n| 13.Cadangan kerugian penurunan nilai aset keuangan -/- | 40.437 .897 |\\n| a. Surat berharga yang dimiliki | 8.\n"
          ]
        }
      ],
      "source": [
        "# Import required libraries\n",
        "from pathlib import Path\n",
        "from mistralai import DocumentURLChunk, ImageURLChunk, TextChunk\n",
        "import json\n",
        "\n",
        "# Verify PDF file exists\n",
        "pdf_file = Path(\"08 Agustus 2025 - Format New SE OJK.pdf\")\n",
        "assert pdf_file.is_file()\n",
        "\n",
        "# Upload PDF file to Mistral's OCR service\n",
        "uploaded_file = client.files.upload(\n",
        "    file={\n",
        "        \"file_name\": pdf_file.stem,\n",
        "        \"content\": pdf_file.read_bytes(),\n",
        "    },\n",
        "    purpose=\"ocr\",\n",
        ")\n",
        "\n",
        "# Get URL for the uploaded file\n",
        "signed_url = client.files.get_signed_url(file_id=uploaded_file.id, expiry=1)\n",
        "\n",
        "# Process PDF with OCR, including embedded images\n",
        "pdf_response = client.ocr.process(\n",
        "    document=DocumentURLChunk(document_url=signed_url.url),\n",
        "    model=\"mistral-ocr-latest\",\n",
        "    include_image_base64=True\n",
        ")\n",
        "\n",
        "# Convert response to JSON format\n",
        "response_dict = json.loads(pdf_response.model_dump_json())\n",
        "\n",
        "print(json.dumps(response_dict, indent=4)[0:1000]) # check the first 1000 characters"
      ]
    },
    {
      "cell_type": "markdown",
      "metadata": {
        "id": "EG2_TdlKIxYs"
      },
      "source": [
        "View the result with the following:"
      ]
    },
    {
      "cell_type": "code",
      "execution_count": 8,
      "metadata": {
        "colab": {
          "base_uri": "https://localhost:8080/",
          "height": 1000
        },
        "id": "dxefUpm-Idp8",
        "outputId": "715b1d4b-5afb-4b96-e15d-ec3fc1b287b5"
      },
      "outputs": [
        {
          "data": {
            "text/markdown": [
              "| LAPORAN POSISI KEUANGAN (NERACA) BULANAN |  |\n",
              "| :--: | :--: |\n",
              "| PT BANK MANDIRI (PERSERO) Tbk. <br> Tanggal 31 Agustus 2025 |  |\n",
              "|  | Dalam Satuan Rupiah |\n",
              "| POS-POS | NOMINAL |\n",
              "| ASET |  |\n",
              "| 1.Kas | 17.543.261 |\n",
              "| 2.Penempatan pada Bank Indonesia | 101.772 .835 |\n",
              "| 3.Penempatan pada bank lain | 58.970 .016 |\n",
              "| 4.Tagihan spot dan derivatif/forward | 8.415 .865 |\n",
              "| 5.Surat berharga yang dimiliki | 254.120 .322 |\n",
              "| 6.Surat berharga yang dijual dengan janji dibeli kembali (repo) | 44.331 .731 |\n",
              "| 7.Tagihan atas surat berharga yang dibeli dengan janji dijual kembali (reverse repo) | 1.639 .854 |\n",
              "| 8.Tagihan akseptasi | 6.410 .900 |\n",
              "| 9.Kredit yang diberikan | 1.353 .438 .264 |\n",
              "| 10.Pembiayaan syariah |  |\n",
              "| 11.Penyertaan modal | 15.016 .495 |\n",
              "| 12.Aset Keuangan Lainnya | 44.141 .292 |\n",
              "| 13.Cadangan kerugian penurunan nilai aset keuangan -/- | 40.437 .897 |\n",
              "| a. Surat berharga yang dimiliki | 8.010 |\n",
              "| b. Kredit yang diberikan dan pembiayaan syariah | 39.019 .406 |\n",
              "| c. Lainnya | 1.410 .481 |\n",
              "| 14.Aset tidak berwujud | 11.671 .277 |\n",
              "| Akumulasi amortisasi aset tidak berwujud -/- | 7.800 .987 |\n",
              "| 15.Aset tetap dan inventaris | 76.317 .999 |\n",
              "| Akumulasi penyusutan aset tetap dan inventaris -/- | 22.077 .700 |\n",
              "| 16.Aset non produktif | 4.665 .156 |\n",
              "| a.Properti terbengkalai | - |\n",
              "| b.Aset yang diambil alih | - |\n",
              "| c.Rekening tunda | 4.547 .501 |\n",
              "| d.Aset antarkantor | 117.655 |\n",
              "| 17.Aset Lainnya | 25.549 .773 |\n",
              "| TOTAL ASET | 1.953 .688 .456 |\n",
              "\n",
              "| LAPORAN POSISI KEUANGAN (NERACA) BULANAN |  |\n",
              "| :--: | :--: |\n",
              "| PT BANK MANDIRI (PERSERO) Tbk. <br> Tanggal 31 Agustus 2025 |  |\n",
              "|  | Dalam Satuan Rupiah |\n",
              "| POS-POS | NOMINAL |\n",
              "| LIABILITAS DAN EKUITAS |  |\n",
              "| LIABILITAS |  |\n",
              "| 1.Giro | 590.566 .209 |\n",
              "| 2.Tabungan | 505.265 .640 |\n",
              "| 3.Deposito | 339.344 .142 |\n",
              "| 4.Uang elektronik | 2.104 .372 |\n",
              "| 5.Liabilitas kepada Bank Indonesia | - |\n",
              "| 6.Liabilitas kepada bank lain | 21.597 .498 |\n",
              "| 7.Liabilitas spot dan derivatif/forward | 8.128 .315 |\n",
              "| 8.Liabilitas atas surat berharga yang dijual dengan janji dibeli kembali (repo) | 41.912 .368 |\n",
              "| 9.Liabilitas akseptasi | 6.410 .900 |\n",
              "| 10.Surat berharga yang diterbitkan | 37.084 .848 |\n",
              "| 11.Pinjaman/pembiayaan yang diterima | 117.106 .672 |\n",
              "| 12.Setoran jaminan | 1.230 .838 |\n",
              "| 13.Liabilitas antarkantor | - |\n",
              "| 14.Liabilitas lainnya | 35.708 .402 |\n",
              "| TOTAL LIABILITAS | 1.706 .460 .204 |\n",
              "| EKUITAS |  |\n",
              "| 15.Modal disetor | 11.666 .667 |\n",
              "| a. Modal dasar | 16.000 .000 |\n",
              "| b. Modal yang belum disetor -/- | 4.333 .333 |\n",
              "| c. Saham yang dibeli kembali (treasury stock ) -/- | - |\n",
              "| 16.Tambahan modal disetor | 19.661 .550 |\n",
              "| a. Agio | 19.661 .550 |\n",
              "| b. Disagio -/- | - |\n",
              "| c. Dana setoran modal | - |\n",
              "| d. Lainnya | - |\n",
              "| 17.Penghasilan komprehensif lainnya | 36.581 .818 |\n",
              "| a. Keuntungan | 36.874 .187 |\n",
              "| b. Kerugian (-/-) | 292.369 |\n",
              "| 18.Cadangan | 2.333 .333 |\n",
              "| a. Cadangan umum | 2.333 .333 |\n",
              "| b. Cadangan tujuan | - |\n",
              "| 19.Laba/nigi | 176.984 .884 |\n",
              "| a. Tahun-tahun lalu | 189.842 .782 |\n",
              "| b. Tahun berjalan | 30.652 .641 |\n",
              "| c. Dividen yang dibayarkan (-/-) | 43.510 .539 |\n",
              "| TOTAL EKUITAS | 247.228 .252 |\n",
              "| TOTAL LIABILITAS DAN EKUITAS | 1.953 .688 .456 |\n",
              "\n",
              "LAPORAN LABA RUGI DAN PENGHASILAN KOMPREHENSIF LAIN BULANAN PT BANK MANDIRI (PERSERO) T04. Tanggal 31 Agustus 2025\n",
              "\n",
              "|   | Dalam Jutaan Rupiah  |\n",
              "| --- | --- |\n",
              "|  PEN-POS | MANDIRA  |\n",
              "|  PENDAFATAN DAN BEBAN OPERASIONAL |   |\n",
              "|  A. Pendapatan dan Beban Bunga |   |\n",
              "|  1. Pendapatan Bunga | 80.944 .536  |\n",
              "|  2. Beban Bunga | 29.769 .841  |\n",
              "|  Pendapatan (Beban) Bunga bersih | 51.174 .695  |\n",
              "|  B. Pendapatan dan Beban Operasional selain Bunga |   |\n",
              "|  1. Keuntungan (kerugian) dari peningkatan (penurunan) nilai wajar aset keuangan | 1.383 .813  |\n",
              "|  2. Keuntungan (kerugian) dari penurunan (peningkatan) nilai wajar liabilitas keuangan | -  |\n",
              "|  3. Keuntungan (kerugian) dari penjualan aset keuangan | 1.903 .638  |\n",
              "|  4. Keuntungan (kerugian) dari transaksi spot dan derivatif/forward (realised) | 212.497  |\n",
              "|  5. Keuntungan (kerugian) dari penyertaan dengan equity method | -  |\n",
              "|  6. Keuntungan (kerugian) dari penjabaran transaksi valuta asing | -  |\n",
              "|  7. Pendapatan dividen | 1.461 .980  |\n",
              "|  8. Komis/provis/per dan administrasi | 12.735 .035  |\n",
              "|  9. Pendapatan lainnya | 5.084 .320  |\n",
              "|  10. Kerugian penurunan nilai aset keuangan (impairment) | 4.490 .099  |\n",
              "|  11. Kerugian terkait risiko operasional | 18.495  |\n",
              "|  12. Beban tenaga kerja | 12.190 .381  |\n",
              "|  13. Beban promosi | 2.422 .384  |\n",
              "|  14. Beban lainnya | 17.306 .403  |\n",
              "|  Pendapatan (Beban) Operasional Lainnya | (13.646.479)  |\n",
              "|  LABA (RUGI) OPERASIONAL | 37.528 .216  |\n",
              "|  PENDAFATAN (BEBAN) NON OPERASIONAL |   |\n",
              "|  1. Keuntungan (kerugian) penjualan aset tetap dan inventaris | 256  |\n",
              "|  2. Pendapatan (beban) non operasional lainnya | 82.310  |\n",
              "|  LABA (RUGI) NON OPERASIONAL | 82.566  |\n",
              "|  LABA (RUGI) PERIODE BERJALAN SEBELUM PAJAK | 37.610 .782  |\n",
              "|  3. Pajak Penghasilan | 6.958 .141  |\n",
              "|  a. Takoiran pajak periode berjalan (-/-) | 5.147 .921  |\n",
              "|  b. (Pendapatan) beban pajak tangguhan | 1.810 .220  |\n",
              "|  LABA (RUGI) BERIJH PERIODE BERJALAN | 30.652 .641  |\n",
              "|  PENGHASILAN KOMPREHENSIF LAIN |   |\n",
              "|  1. Pos-pos yang tidak akan direklasifikasi ke laba rugi | 42.717  |\n",
              "|  a. Keuntungan yang berasal dari revaluasi aset tetap | -  |\n",
              "|  b. Keuntungan (kerugian) yang berasal dari pengukuran kembali atas program pensiun manfaat pasti | 42.717  |\n",
              "|  c. Lainnya | -  |\n",
              "|  2. Pos-pos yang akan direklasifikasi ke laba rugi | 2.917 .490  |\n",
              "|  a. Keuntungan (kerugian) yang berasal dari penyesuaian akibat penjabaran laporan keuangan dalam mata uang asing | 38.297  |\n",
              "|  b. Keuntungan (kerugian) dari perubahan nilai aset keuangan yang diukur pada nilai wajar melalui penghasilan komprehensif lain | 2.879 .193  |\n",
              "|  PENGHASILAN KOMPREHENSIF LAIN PERIODE BERJALAN - SETELAH PAJAK | 2.960 .207  |\n",
              "|  TOTAL LABA (RUGI) KOMPREHENSIF PERIODE BERJALAN | 33.612 .848  |\n",
              "|  TRANSFER LABA (RUGI) KE KANTOR PUSAT |   |\n",
              "\n",
              "| LAPORAN KOMITMEN DAN KONTINJENSI BULANAN PT BANK MANDIRI (PERSERO) Tbk. Tanggal 31 Agustus 2025 |   |\n",
              "| --- | --- |\n",
              "|  |   |\n",
              "|  POS-POS | NOMINAL  |\n",
              "|  I. TAGIHAN KOMITMEN | 521.136 .164  |\n",
              "|  1. Fasilitas pinjaman/pembiayaan yang belum ditarik | -  |\n",
              "|  2. Posisi valas yang akan diterima dari transaksi spot dan derivatif/forward | 521.136 .164  |\n",
              "|  3. Lainnya | -  |\n",
              "|  II. KEWAJIBAN KOMITMEN | 817.976 .667  |\n",
              "|  1. Fasilitas kredit/pembiayaan kepada nasabah yang belum ditarik | 274.330 .297  |\n",
              "|  a. Committed | 56.599 .704  |\n",
              "|  b. Uncommitted | 217.730 .593  |\n",
              "|  2. Irrevocable L/C yang masih berjalan | 22.788 .150  |\n",
              "|  3. Posisi valas yang akan diserahkan untuk transaksi spot dan derivatif/forward | 520.858 .220  |\n",
              "|  4. Lainnya | -  |\n",
              "|  III.TAGIHAN KONTINJENSI | 57.242 .140  |\n",
              "|  1. Garansi yang diterima | 57.207 .688  |\n",
              "|  2. Lainnya | 34.452  |\n",
              "|  IV.KEWAJIBAN KONTINJENSI | 163.379 .562  |\n",
              "|  1. Garansi yang diberikan | 158.858 .439  |\n",
              "|  2. Lainnya | 4.521 .123  |"
            ],
            "text/plain": [
              "<IPython.core.display.Markdown object>"
            ]
          },
          "metadata": {},
          "output_type": "display_data"
        }
      ],
      "source": [
        "from mistralai.models import OCRResponse\n",
        "from IPython.display import Markdown, display\n",
        "\n",
        "def replace_images_in_markdown(markdown_str: str, images_dict: dict) -> str:\n",
        "    \"\"\"\n",
        "    Replace image placeholders in markdown with base64-encoded images.\n",
        "\n",
        "    Args:\n",
        "        markdown_str: Markdown text containing image placeholders\n",
        "        images_dict: Dictionary mapping image IDs to base64 strings\n",
        "\n",
        "    Returns:\n",
        "        Markdown text with images replaced by base64 data\n",
        "    \"\"\"\n",
        "    for img_name, base64_str in images_dict.items():\n",
        "        markdown_str = markdown_str.replace(\n",
        "            f\"![{img_name}]({img_name})\", f\"![{img_name}]({base64_str})\"\n",
        "        )\n",
        "    return markdown_str\n",
        "\n",
        "def get_combined_markdown(ocr_response: OCRResponse) -> str:\n",
        "    \"\"\"\n",
        "    Combine OCR text and images into a single markdown document.\n",
        "\n",
        "    Args:\n",
        "        ocr_response: Response from OCR processing containing text and images\n",
        "\n",
        "    Returns:\n",
        "        Combined markdown string with embedded images\n",
        "    \"\"\"\n",
        "    markdowns: list[str] = []\n",
        "    # Extract images from page\n",
        "    for page in ocr_response.pages:\n",
        "        image_data = {}\n",
        "        for img in page.images:\n",
        "            image_data[img.id] = img.image_base64\n",
        "        # Replace image placeholders with actual images\n",
        "        markdowns.append(replace_images_in_markdown(page.markdown, image_data))\n",
        "\n",
        "    return \"\\n\\n\".join(markdowns)\n",
        "\n",
        "# Display combined markdowns and images\n",
        "display(Markdown(get_combined_markdown(pdf_response)))"
      ]
    },
    {
      "cell_type": "markdown",
      "metadata": {
        "id": "8yk5tBpPuKal"
      },
      "source": [
        "## Mistral OCR with Image\n",
        "\n",
        "In addition to the PDF file shown above, Mistral OCR can also process image files:"
      ]
    },
    {
      "cell_type": "code",
      "execution_count": null,
      "metadata": {
        "colab": {
          "base_uri": "https://localhost:8080/"
        },
        "id": "sFdyKIcgrahm",
        "outputId": "c1bf6808-a39c-49d0-a9a9-9d68be9a172b"
      },
      "outputs": [],
      "source": [
        "# import base64\n",
        "\n",
        "# # Verify image exists\n",
        "# image_file = Path(\"receipt.png\")\n",
        "# assert image_file.is_file()\n",
        "\n",
        "# # Encode image as base64 for API\n",
        "# encoded = base64.b64encode(image_file.read_bytes()).decode()\n",
        "# base64_data_url = f\"data:image/jpeg;base64,{encoded}\"\n",
        "\n",
        "# # Process image with OCR\n",
        "# image_response = client.ocr.process(\n",
        "#     document=ImageURLChunk(image_url=base64_data_url),\n",
        "#     model=\"mistral-ocr-latest\"\n",
        "# )\n",
        "\n",
        "# # Convert response to JSON\n",
        "# response_dict = json.loads(image_response.model_dump_json())\n",
        "# json_string = json.dumps(response_dict, indent=4)\n",
        "# print(json_string)"
      ]
    },
    {
      "cell_type": "markdown",
      "metadata": {
        "id": "pWStbt7LuMvT"
      },
      "source": [
        "## Extract structured data from OCR results\n",
        "\n",
        "OCR results can be further processed using another model.\n",
        "\n",
        "Our goal is to extract structured data from these results. To achieve this, we will utilize the `pixtral-12b-latest` model, supported by our OCR model, to deliver better and higher-quality answers:"
      ]
    },
    {
      "cell_type": "code",
      "execution_count": null,
      "metadata": {
        "colab": {
          "base_uri": "https://localhost:8080/"
        },
        "id": "8aZOQs38r0GO",
        "outputId": "3d406569-57bc-4efb-cc92-e9a670f97ed7"
      },
      "outputs": [],
      "source": [
        "# # Get OCR results for processing\n",
        "# image_ocr_markdown = image_response.pages[0].markdown\n",
        "\n",
        "# # Get structured response from model\n",
        "# chat_response = client.chat.complete(\n",
        "#     model=\"pixtral-12b-latest\",\n",
        "#     messages=[\n",
        "#         {\n",
        "#             \"role\": \"user\",\n",
        "#             \"content\": [\n",
        "#                 ImageURLChunk(image_url=base64_data_url),\n",
        "#                 TextChunk(\n",
        "#                     text=(\n",
        "#                         f\"This is image's OCR in markdown:\\n\\n{image_ocr_markdown}\\n.\\n\"\n",
        "#                         \"Convert this into a sensible structured json response. \"\n",
        "#                         \"The output should be strictly be json with no extra commentary\"\n",
        "#                     )\n",
        "#                 ),\n",
        "#             ],\n",
        "#         }\n",
        "#     ],\n",
        "#     response_format={\"type\": \"json_object\"},\n",
        "#     temperature=0,\n",
        "# )\n",
        "\n",
        "# # Parse and return JSON response\n",
        "# response_dict = json.loads(chat_response.choices[0].message.content)\n",
        "# print(json.dumps(response_dict, indent=4))"
      ]
    },
    {
      "cell_type": "markdown",
      "metadata": {
        "id": "4YKioib1vgTZ"
      },
      "source": [
        "In the example above, we are leveraging a model already capable of vision tasks.\n",
        "\n",
        "However, we could also use text-only models for the structured output. Note in this case, we do not include the image in the user message:"
      ]
    },
    {
      "cell_type": "code",
      "execution_count": null,
      "metadata": {
        "colab": {
          "base_uri": "https://localhost:8080/"
        },
        "id": "1m19STu2DDfI",
        "outputId": "06f99dfe-b697-4d82-bf20-0fa60435d47f"
      },
      "outputs": [
        {
          "name": "stdout",
          "output_type": "stream",
          "text": [
            "{\n",
            "    \"bank\": \"PT BANK MANDIRI (PERSERO) Tbk.\",\n",
            "    \"laporan\": \"LAPORAN POSISI KEUANGAN (NERACA) BULANAN\",\n",
            "    \"periode\": \"31 Agustus 2025\",\n",
            "    \"aset\": {\n",
            "        \"kas\": 17543261,\n",
            "        \"penempatan_pada_bank_indonesia\": 101772835,\n",
            "        \"penempatan_pada_bank_lain\": 58970016,\n",
            "        \"tagihan_spot_derivatif_forward\": 8415865,\n",
            "        \"surat_berharga_dimiliki\": 254120322,\n",
            "        \"surat_berharga_dijual_repo\": 44331731,\n",
            "        \"tagihan_reverse_repo\": 1639854,\n",
            "        \"tagihan_akseptasi\": 6410900,\n",
            "        \"kredit_diberikan\": 1353438264,\n",
            "        \"pembiayaan_syariah\": 0,\n",
            "        \"penyertaan_modal\": 15016495,\n",
            "        \"aset_keuangan_lainnya\": 44141292,\n",
            "        \"cadangan_kerugian_penurunan_nilai_aset_keuangan\": -40437897,\n",
            "        \"surat_berharga_dimiliki_cadangan\": 8010,\n",
            "        \"kredit_diberikan_pembiayaan_syariah_cadangan\": 39019406,\n",
            "        \"lainnya_cadangan\": 1410481,\n",
            "        \"aset_tidak_berwujud\": 11671277,\n",
            "        \"akumulasi_amortisasi_aset_tidak_berwujud\": -7800987,\n",
            "        \"aset_tetap_inventaris\": 76317999,\n",
            "        \"akumulasi_penyusutan_aset_tetap_inventaris\": -22077700,\n",
            "        \"aset_non_produktif\": 4665156,\n",
            "        \"properti_terbengkalai\": 0,\n",
            "        \"aset_diambil_alih\": 0,\n",
            "        \"rekening_tunda\": 4547501,\n",
            "        \"aset_antarkantor\": 117655,\n",
            "        \"aset_lainnya\": 25549773,\n",
            "        \"total_aset\": 1953688456\n",
            "    },\n",
            "    \"liabilitas_dan_ekuitas\": {\n",
            "        \"liabilitas\": {\n",
            "            \"giro\": 590566209,\n",
            "            \"tabungan\": 505265640,\n",
            "            \"deposito\": 339344142,\n",
            "            \"uang_elektronik\": 2104372,\n",
            "            \"liabilitas_bank_indonesia\": 0,\n",
            "            \"liabilitas_bank_lain\": 21597498,\n",
            "            \"liabilitas_spot_derivatif_forward\": 8128315,\n",
            "            \"liabilitas_repo\": 41912368,\n",
            "            \"liabilitas_akseptasi\": 6410900,\n",
            "            \"surat_berharga_diterbitkan\": 37084848,\n",
            "            \"pinjaman_pembiayaan_diterima\": 117106672,\n",
            "            \"setoran_jaminan\": 1230838,\n",
            "            \"liabilitas_antarkantor\": 0,\n",
            "            \"liabilitas_lainnya\": 35708402,\n",
            "            \"total_liabilitas\": 1706460204\n",
            "        },\n",
            "        \"ekuitas\": {\n",
            "            \"modal_disetor\": 11666667,\n",
            "            \"modal_dasar\": 16000000,\n",
            "            \"modal_belum_disetor\": -4333333,\n",
            "            \"saham_dibeli_kembali\": 0,\n",
            "            \"tambahan_modal_disetor\": 19661550,\n",
            "            \"agio\": 19661550,\n",
            "            \"disagio\": 0,\n",
            "            \"dana_setoran_modal\": 0,\n",
            "            \"lainnya\": 0,\n",
            "            \"penghasilan_komprehensif_lainnya\": 36581818,\n",
            "            \"keuntungan\": 36874187,\n",
            "            \"kerugian\": -292369,\n",
            "            \"cadangan\": 2333333,\n",
            "            \"cadangan_umum\": 2333333,\n",
            "            \"cadangan_tujuan\": 0,\n",
            "            \"laba_nigi\": 176984884,\n",
            "            \"tahun_tahun_lalu\": 189842782,\n",
            "            \"tahun_berjalan\": 30652641,\n",
            "            \"dividen_dibayarkan\": -43510539,\n",
            "            \"total_ekuitas\": 247228252\n",
            "        },\n",
            "        \"total_liabilitas_dan_ekuitas\": 1953688456\n",
            "    },\n",
            "    \"laba_rugi_penghasilan_komprehensif\": {\n",
            "        \"pen-pen\": \"PENDAFATAN DAN BEBAN OPERASIONAL\",\n",
            "        \"pendapatan_bunga\": 80944536,\n",
            "        \"beban_bunga\": 29769841,\n",
            "        \"pendapatan_beban_bunga_bersih\": 51174695,\n",
            "        \"pendapatan_operasional_selain_bunga\": {\n",
            "            \"keuntungan_penurunan_nilai_wajar_aset_keuangan\": 1383813,\n",
            "            \"kerugian_penurunan_nilai_wajar_liabilitas_keuangan\": 0,\n",
            "            \"keuntungan_penjualan_aset_keuangan\": 1903638,\n",
            "            \"keuntungan_transaksi_spot_derivatif_forward\": 212497,\n",
            "            \"keuntungan_penyertaan_equity_method\": 0,\n",
            "            \"keuntungan_penjabaran_transaksi_valuta_asing\": 0,\n",
            "            \"pendapatan_dividen\": 1461980,\n",
            "            \"komis_provis_per_administrasi\": 12735035,\n",
            "            \"pendapatan_lainnya\": 5084320,\n",
            "            \"kerugian_penurunan_nilai_aset_keuangan\": 4490099,\n",
            "            \"kerugian_terkait_risiko_operasional\": 18495,\n",
            "            \"beban_tenaga_kerja\": 12190381,\n",
            "            \"beban_promosi\": 2422384,\n",
            "            \"beban_lainnya\": 17306403,\n",
            "            \"pendapatan_beban_operasional_lainnya\": -13646479,\n",
            "            \"laba_rugi_operasional\": 37528216\n",
            "        },\n",
            "        \"pendapatan_non_operasional\": {\n",
            "            \"keuntungan_penjualan_aset_tetap_inventaris\": 256,\n",
            "            \"pendapatan_beban_non_operasional_lainnya\": 82310,\n",
            "            \"laba_rugi_non_operasional\": 82566\n",
            "        },\n",
            "        \"laba_rugi_periode_berjalan_sebelum_pajak\": 37610782,\n",
            "        \"pajak_penghasilan\": {\n",
            "            \"takoiran_pajak_periode_berjalan\": 5147921,\n",
            "            \"pendapatan_beban_pajak_tangguhan\": 1810220,\n",
            "            \"laba_rugi_beri_jalan\": 30652641\n",
            "        },\n",
            "        \"penghasilan_komprehensif_lain\": {\n",
            "            \"pos_pos_tidak_akan_direklasifikasi\": 42717,\n",
            "            \"keuntungan_revaluasi_aset_tetap\": 0,\n",
            "            \"keuntungan_pengukuran_kembali_pensiun_manfaat_pasti\": 42717,\n",
            "            \"lainnya\": 0,\n",
            "            \"pos_pos_yang_akan_direklasifikasi\": 2917490,\n",
            "            \"keuntungan_penjabaran_transaksi_valuta_asing\": 38297,\n",
            "            \"keuntungan_perubahan_nilai_aset_keuangan\": 2879193,\n",
            "            \"penghasilan_komprehensif_lain_periode_berjalan_setelah_pajak\": 2960207,\n",
            "            \"total_laba_rugi_komprehensif_periode_berjalan\": 33612848\n",
            "        }\n",
            "    },\n",
            "    \"komitmen_dan_kontingen\": {\n",
            "        \"tagihan_komitmen\": 521136164,\n",
            "        \"fasilitas_pinjam_pembiayaan_belum_ditarik\": 0,\n",
            "        \"posisi_valas_yang_akan_diterima\": 521136164,\n",
            "        \"lainnya\": 4521123,\n",
            "        \"kewajiban_komitmen\": 817976667,\n",
            "        \"fasilitas_kredit_pembiayaan_nasabah_belum_ditarik\": 274330297,\n",
            "        \"committed\": 56599704,\n",
            "        \"uncommitted\": 217730593,\n",
            "        \"irrevocable_lc_yang_masih_berjalan\": 22788150,\n",
            "        \"posisi_valas_yang_akan_diserahkan\": 520858220,\n",
            "        \"tagihan_kontingen\": 57242140,\n",
            "        \"garansi_yang_diterima\": 57207688,\n",
            "        \"kewajiban_kontingen\": 163379562,\n",
            "        \"garansi_yang_diberikan\": 158858439\n",
            "    }\n",
            "}\n"
          ]
        }
      ],
      "source": [
        "# Get OCR results for processing\n",
        "# pdf_ocr_markdown = pdf_response.pages[0].markdown\n",
        "pdf_ocr_markdown = [page.markdown for page in pdf_response.pages]\n",
        "\n",
        "# Get structured response from model\n",
        "chat_response = client.chat.complete(\n",
        "    model=\"ministral-8b-latest\",\n",
        "    messages=[\n",
        "        {\n",
        "            \"role\": \"user\",\n",
        "            \"content\": [\n",
        "                TextChunk(\n",
        "                    text=(\n",
        "                        f\"Ini adalah OCR gambar dalam markdown:\\n\\n{pdf_ocr_markdown}\\n.\\n\"\n",
        "                        \"Ubah ini menjadi respons JSON terstruktur yang masuk akal dan dalam bahasa indonesia\"\n",
        "                        \"Dari nama bank , jenis laporan dan periode laporan \"\n",
        "                        \"Outputnya harus benar-benar JSON tanpa komentar tambahan.\"\n",
        "                    )\n",
        "                ),\n",
        "            ],\n",
        "        }\n",
        "    ],\n",
        "    response_format={\"type\": \"json_object\"},\n",
        "    temperature=0,\n",
        ")\n",
        "\n",
        "# Parse and return JSON response\n",
        "response_dict = json.loads(chat_response.choices[0].message.content)\n",
        "print(json.dumps(response_dict, indent=4))\n"
      ]
    },
    {
      "cell_type": "code",
      "execution_count": null,
      "metadata": {},
      "outputs": [],
      "source": []
    },
    {
      "cell_type": "markdown",
      "metadata": {
        "id": "Pc__PKmkwUnZ"
      },
      "source": [
        "## All Together - Mistral OCR + Custom Structured Output\n",
        "Let's design a simple function that takes an `image_path` file and returns a JSON structured output in a specific format. In this case, we arbitrarily decided we wanted an output respecting the following:\n",
        "\n",
        "```python\n",
        "class StructuredOCR:\n",
        "    file_name: str  # can be any string\n",
        "    topics: list[str]  # must be a list of strings\n",
        "    languages: str  # string\n",
        "    ocr_contents: dict  # any dictionary, can be freely defined by the model\n",
        "```\n",
        "\n",
        "We will make use of [custom structured outputs](https://docs.mistral.ai/capabilities/structured-output/custom_structured_output/)."
      ]
    },
    {
      "cell_type": "code",
      "execution_count": null,
      "metadata": {
        "id": "oM2ensmIwh4H"
      },
      "outputs": [],
      "source": [
        "# Import required libraries\n",
        "from pathlib import Path\n",
        "from mistralai import DocumentURLChunk, ImageURLChunk, TextChunk\n",
        "import json\n",
        "\n",
        "\n",
        "from enum import Enum\n",
        "from pathlib import Path\n",
        "from pydantic import BaseModel\n",
        "import base64\n",
        "\n",
        "\n",
        "class StructuredOCR(BaseModel):\n",
        "    bank: str\n",
        "    laporan: str\n",
        "    periode: str\n",
        "    pos: dict[str, int]\n",
        "\n",
        "\n",
        "def structured_ocr(pdf_path: str) -> StructuredOCR:\n",
        "    \"\"\"\n",
        "    Process an image using OCR and extract structured data.\n",
        "\n",
        "    Args:\n",
        "        image_path: Path to the image file to process\n",
        "\n",
        "    Returns:\n",
        "        StructuredOCR object containing the extracted data\n",
        "\n",
        "    Raises:\n",
        "        AssertionError: If the image file does not exist\n",
        "    \"\"\"\n",
        "    # Verify PDF file exists\n",
        "    # pdf_file = Path(\"08 Agustus 2025 - Format New SE OJK.pdf\")\n",
        "    pdf_file = Path(pdf_path)\n",
        "    assert pdf_file.is_file()\n",
        "\n",
        "    # Upload PDF file to Mistral's OCR service\n",
        "    uploaded_file = client.files.upload(\n",
        "        file={\n",
        "            \"file_name\": pdf_file.stem,\n",
        "            \"content\": pdf_file.read_bytes(),\n",
        "        },\n",
        "        purpose=\"ocr\",\n",
        "    )\n",
        "\n",
        "    # Get URL for the uploaded file\n",
        "    signed_url = client.files.get_signed_url(file_id=uploaded_file.id, expiry=1)\n",
        "\n",
        "    # Process PDF with OCR, including embedded images\n",
        "    pdf_response = client.ocr.process(\n",
        "        document=DocumentURLChunk(document_url=signed_url.url),\n",
        "        model=\"mistral-ocr-latest\",\n",
        "        include_image_base64=True\n",
        "    )# Verify PDF file exists\n",
        "    pdf_file = Path(\"08 Agustus 2025 - Format New SE OJK.pdf\")\n",
        "    assert pdf_file.is_file()\n",
        "\n",
        "    # Upload PDF file to Mistral's OCR service\n",
        "    uploaded_file = client.files.upload(\n",
        "        file={\n",
        "            \"file_name\": pdf_file.stem,\n",
        "            \"content\": pdf_file.read_bytes(),\n",
        "        },\n",
        "        purpose=\"ocr\",\n",
        "    )\n",
        "\n",
        "    # Get URL for the uploaded file\n",
        "    signed_url = client.files.get_signed_url(file_id=uploaded_file.id, expiry=1)\n",
        "\n",
        "    # Process PDF with OCR, including embedded images\n",
        "    pdf_response = client.ocr.process(\n",
        "        document=DocumentURLChunk(document_url=signed_url.url),\n",
        "        model=\"mistral-ocr-latest\",\n",
        "        include_image_base64=True\n",
        "    )\n",
        "\n",
        "    # image_ocr_markdown = image_response.pages[0].markdown\n",
        "    pdf_ocr_markdown = [page.markdown for page in pdf_response.pages]\n",
        "\n",
        "\n",
        "    # Get structured response from model\n",
        "    chat_response = client.chat.parse(\n",
        "        model=\"ministral-8b-latest\",\n",
        "        messages=[\n",
        "            {\n",
        "                \"role\": \"user\",\n",
        "                \"content\": [\n",
        "                    TextChunk(\n",
        "                        text=(\n",
        "                            f\"Ini adalah OCR gambar dalam markdown:\\n\\n{pdf_ocr_markdown}\\n.\\n\"\n",
        "                            \"Ubah ini menjadi respons JSON terstruktur yang masuk akal dan dalam bahasa indonesia\"\n",
        "                            \"Dari nama bank , jenis laporan dan periode laporan \"\n",
        "                            \"Outputnya harus benar-benar JSON tanpa komentar tambahan.\"\n",
        "                        )\n",
        "                    ),\n",
        "                ],\n",
        "            }\n",
        "        ],\n",
        "        response_format=StructuredOCR,\n",
        "        temperature=0,\n",
        "    )\n",
        "\n",
        "\n",
        "\n",
        "    return chat_response.choices[0].message.parsed"
      ]
    },
    {
      "cell_type": "markdown",
      "metadata": {
        "id": "UVipACEOAyEX"
      },
      "source": [
        "We can now extract structured output from any image parsed with our OCR model."
      ]
    },
    {
      "cell_type": "code",
      "execution_count": 14,
      "metadata": {
        "colab": {
          "base_uri": "https://localhost:8080/"
        },
        "id": "uvt3OAcpyXCF",
        "outputId": "3d22bc4d-005f-4e59-e974-bb871f4882d8"
      },
      "outputs": [
        {
          "data": {
            "text/plain": [
              "StructuredOCR(bank=1, laporan=1, periode=2025, pos={}, kas=17543261)"
            ]
          },
          "execution_count": 14,
          "metadata": {},
          "output_type": "execute_result"
        }
      ],
      "source": [
        "# Example usage\n",
        "pdf_path = \"08 Agustus 2025 - Format New SE OJK.pdf\" # Path to sample receipt image\n",
        "structured_response = structured_ocr(pdf_path) # Process image and extract data\n",
        "structured_response\n"
      ]
    },
    {
      "cell_type": "code",
      "execution_count": 15,
      "metadata": {},
      "outputs": [
        {
          "name": "stdout",
          "output_type": "stream",
          "text": [
            "{\n",
            "    \"bank\": 1,\n",
            "    \"laporan\": 1,\n",
            "    \"periode\": 2025,\n",
            "    \"pos\": {},\n",
            "    \"kas\": 17543261\n",
            "}\n"
          ]
        }
      ],
      "source": [
        "# # Parse and return JSON response\n",
        "response_dict = json.loads(structured_response.model_dump_json())\n",
        "print(json.dumps(response_dict, indent=4))"
      ]
    },
    {
      "cell_type": "markdown",
      "metadata": {
        "id": "H8705WaqA8KV"
      },
      "source": [
        "The original image for comparison can be found below."
      ]
    },
    {
      "cell_type": "code",
      "execution_count": null,
      "metadata": {
        "colab": {
          "base_uri": "https://localhost:8080/",
          "height": 659
        },
        "id": "1Xj9tOTKA7mw",
        "outputId": "8933d2be-3b06-41f6-be7a-4c396830a57c"
      },
      "outputs": [],
      "source": [
        "# from PIL import Image\n",
        "\n",
        "# image = Image.open(image_path)\n",
        "# image.resize((image.width // 5, image.height // 5))\n"
      ]
    },
    {
      "cell_type": "code",
      "execution_count": null,
      "metadata": {
        "id": "yC4udP5Bpe72"
      },
      "outputs": [],
      "source": []
    }
  ],
  "metadata": {
    "colab": {
      "provenance": []
    },
    "kernelspec": {
      "display_name": "venv",
      "language": "python",
      "name": "python3"
    },
    "language_info": {
      "codemirror_mode": {
        "name": "ipython",
        "version": 3
      },
      "file_extension": ".py",
      "mimetype": "text/x-python",
      "name": "python",
      "nbconvert_exporter": "python",
      "pygments_lexer": "ipython3",
      "version": "3.11.9"
    }
  },
  "nbformat": 4,
  "nbformat_minor": 0
}
